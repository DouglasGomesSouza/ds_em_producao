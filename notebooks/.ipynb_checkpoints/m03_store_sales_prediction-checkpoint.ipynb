{
 "cells": [
  {
   "cell_type": "markdown",
   "id": "79a67e7c",
   "metadata": {},
   "source": [
    "# Imports"
   ]
  },
  {
   "cell_type": "code",
   "execution_count": null,
   "id": "7480c705",
   "metadata": {
    "ExecuteTime": {
     "start_time": "2023-07-26T23:56:12.061Z"
    }
   },
   "outputs": [],
   "source": [
    "import math\n",
    "import inflection\n",
    "import numpy  as np\n",
    "import pandas as pd\n",
    "\n",
    "import seaborn                as sns\n",
    "from matplotlib import pyplot as plt\n",
    "\n",
    "from IPython.core.display import HTML\n",
    "from IPython.display      import Image"
   ]
  },
  {
   "cell_type": "markdown",
   "id": "9fc72bae",
   "metadata": {
    "heading_collapsed": true
   },
   "source": [
    "## Helper Functions"
   ]
  },
  {
   "cell_type": "code",
   "execution_count": null,
   "id": "9fa20dc4",
   "metadata": {
    "ExecuteTime": {
     "start_time": "2023-07-26T23:56:12.070Z"
    },
    "hidden": true
   },
   "outputs": [],
   "source": [
    "def jupyter_settings():\n",
    "    %matplotlib inline\n",
    "    %pylab inline\n",
    "    plt.style.use( 'bmh' )\n",
    "    plt.rcParams['figure.figsize'] = [25, 12]\n",
    "    plt.rcParams['font.size'] = 24\n",
    "    display( HTML( '<style>.container { width:100% !important; }</style>') )\n",
    "    pd.options.display.max_columns = None\n",
    "    pd.options.display.max_rows = None\n",
    "    pd.set_option( 'display.expand_frame_repr', False )\n",
    "    sns.set()"
   ]
  },
  {
   "cell_type": "code",
   "execution_count": null,
   "id": "c3b73edc",
   "metadata": {
    "ExecuteTime": {
     "start_time": "2023-07-26T23:56:12.074Z"
    },
    "hidden": true
   },
   "outputs": [],
   "source": [
    "jupyter_settings()"
   ]
  },
  {
   "cell_type": "markdown",
   "id": "139c96b7",
   "metadata": {
    "heading_collapsed": true
   },
   "source": [
    "## Datasets"
   ]
  },
  {
   "cell_type": "code",
   "execution_count": null,
   "id": "6eeacd90",
   "metadata": {
    "ExecuteTime": {
     "start_time": "2023-07-26T23:56:12.078Z"
    },
    "hidden": true
   },
   "outputs": [],
   "source": [
    "df_sales_raw = pd.read_csv('../datasets/train.csv', low_memory=False)\n",
    "df_store_raw = pd.read_csv('../datasets/store.csv', low_memory=False)\n",
    "\n",
    "#merge\n",
    "df_raw = pd.merge(df_sales_raw, df_store_raw, how= 'left', on='Store')"
   ]
  },
  {
   "cell_type": "markdown",
   "id": "65b628e3",
   "metadata": {
    "heading_collapsed": true
   },
   "source": [
    "# Data Description"
   ]
  },
  {
   "cell_type": "code",
   "execution_count": null,
   "id": "dc7340e3",
   "metadata": {
    "ExecuteTime": {
     "start_time": "2023-07-26T23:56:12.081Z"
    },
    "hidden": true
   },
   "outputs": [],
   "source": [
    "df1 = df_raw.copy()"
   ]
  },
  {
   "cell_type": "markdown",
   "id": "1d07b09c",
   "metadata": {
    "heading_collapsed": true,
    "hidden": true
   },
   "source": [
    "## Rename Columns"
   ]
  },
  {
   "cell_type": "code",
   "execution_count": null,
   "id": "3605fc8d",
   "metadata": {
    "ExecuteTime": {
     "start_time": "2023-07-26T23:56:12.085Z"
    },
    "hidden": true
   },
   "outputs": [],
   "source": [
    "df1.columns"
   ]
  },
  {
   "cell_type": "code",
   "execution_count": null,
   "id": "0161c2e6",
   "metadata": {
    "ExecuteTime": {
     "start_time": "2023-07-26T23:56:12.088Z"
    },
    "hidden": true
   },
   "outputs": [],
   "source": [
    "cols_old = ['Store', 'DayOfWeek', 'Date', 'Sales', 'Customers', 'Open', 'Promo', 'StateHoliday', 'SchoolHoliday',\n",
    "            'StoreType', 'Assortment', 'CompetitionDistance', 'CompetitionOpenSinceMonth', 'CompetitionOpenSinceYear',\n",
    "            'Promo2', 'Promo2SinceWeek', 'Promo2SinceYear', 'PromoInterval']\n",
    "\n",
    "snakecase = lambda x: inflection.underscore(x)\n",
    "\n",
    "cols_new = list(map(snakecase, cols_old))\n",
    "\n",
    "df1.columns = cols_new"
   ]
  },
  {
   "cell_type": "code",
   "execution_count": null,
   "id": "202161ed",
   "metadata": {
    "ExecuteTime": {
     "start_time": "2023-07-26T23:56:12.090Z"
    },
    "hidden": true
   },
   "outputs": [],
   "source": [
    "df1.columns"
   ]
  },
  {
   "cell_type": "markdown",
   "id": "51a64430",
   "metadata": {
    "heading_collapsed": true,
    "hidden": true
   },
   "source": [
    "## Data Dimensions"
   ]
  },
  {
   "cell_type": "code",
   "execution_count": null,
   "id": "b51678df",
   "metadata": {
    "ExecuteTime": {
     "start_time": "2023-07-26T23:56:12.094Z"
    },
    "hidden": true,
    "scrolled": true
   },
   "outputs": [],
   "source": [
    "print('O numero de Rows : {}'.format(df1.shape[0]))\n",
    "print('O numero de Columns : {}'.format(df1.shape[1]))"
   ]
  },
  {
   "cell_type": "markdown",
   "id": "df8bdb16",
   "metadata": {
    "heading_collapsed": true,
    "hidden": true
   },
   "source": [
    "## Data Types"
   ]
  },
  {
   "cell_type": "code",
   "execution_count": null,
   "id": "ae997833",
   "metadata": {
    "ExecuteTime": {
     "start_time": "2023-07-26T23:56:12.098Z"
    },
    "cell_style": "center",
    "hidden": true,
    "scrolled": false
   },
   "outputs": [],
   "source": [
    "df1['date'] = pd.to_datetime( df1['date'])\n",
    "\n",
    "df1.dtypes"
   ]
  },
  {
   "cell_type": "markdown",
   "id": "9529178f",
   "metadata": {
    "heading_collapsed": true,
    "hidden": true
   },
   "source": [
    "## Check NA"
   ]
  },
  {
   "cell_type": "code",
   "execution_count": null,
   "id": "863417a2",
   "metadata": {
    "ExecuteTime": {
     "start_time": "2023-07-26T23:56:12.103Z"
    },
    "hidden": true
   },
   "outputs": [],
   "source": [
    "df1.isna().sum()"
   ]
  },
  {
   "cell_type": "markdown",
   "id": "ebf2c461",
   "metadata": {
    "heading_collapsed": true,
    "hidden": true
   },
   "source": [
    "## Fillout NA"
   ]
  },
  {
   "cell_type": "code",
   "execution_count": null,
   "id": "284a31b3",
   "metadata": {
    "ExecuteTime": {
     "start_time": "2023-07-26T23:56:12.107Z"
    },
    "cell_style": "center",
    "hidden": true
   },
   "outputs": [],
   "source": [
    "# competition_distance\n",
    "df1['competition_distance'] = df1['competition_distance'].apply( lambda x: 200000.0 if math.isnan(x) else x ) #substituindo NA pela maior distancia\n",
    "\n",
    "# competition_open_since_month    \n",
    "df1['competition_open_since_month'] = df1.apply (lambda x: x['date'].month if math.isnan(x['competition_open_since_month']) else x['competition_open_since_month'], axis=1 )\n",
    "\n",
    "# competition_open_since_year     \n",
    "df1['competition_open_since_year'] = df1.apply( lambda x: x['date'].year if math.isnan(x['competition_open_since_year']) else x['competition_open_since_year'], axis=1)\n",
    "\n",
    "# promo2_since_week               \n",
    "df1['promo2_since_week'] = df1.apply( lambda x: x['date'].week if math.isnan( x['promo2_since_week']) else x['promo2_since_week'], axis=1)\n",
    "\n",
    "# promo2_since_year               \n",
    "df1['promo2_since_year'] = df1.apply( lambda x: x['date'].year if math.isnan( x['promo2_since_year']) else x['promo2_since_year'], axis=1)\n",
    "\n",
    "# promo_interval           \n",
    "month_map= {1: 'Jan', 2: 'Fev', 3: 'Mar', 4:'Apr', 5: 'May', 6: 'Jun', 7: 'Jul', 8: 'Ago', 9: 'Sep', 10: 'Oct', 11: 'Nov', 12: 'Dec'}\n",
    "\n",
    "df1['promo_interval'].fillna(0, inplace=True) #preenchendo os Nan's com 0 para melhor comparação\n",
    "\n",
    "df1['month_map'] = df1['date'].dt.month.map( month_map ) # criando coluna para pegar o mes\n",
    "\n",
    "df1['is_promo'] = df1[['promo_interval', 'month_map']].apply( lambda x: 0 if x['promo_interval'] == 0 else 1 if x['month_map'] in x['promo_interval'].split( ',' ) else 0, axis=1 )\n",
    "#PRIMEIRO: separar as virgulas com split da coluna promo_interval\n",
    "#SEGUNDO: retorna 1 se o dados da coluna month_map está na promo_interval, senão retorna 0\n",
    "#TERCEIRO: cria coluna is_promo com valor da aplicação nas colunas promo_interval e month_map -> 0 se promo_interval for 0, senão 1)"
   ]
  },
  {
   "cell_type": "code",
   "execution_count": null,
   "id": "f9c36033",
   "metadata": {
    "ExecuteTime": {
     "start_time": "2023-07-26T23:56:12.111Z"
    },
    "hidden": true
   },
   "outputs": [],
   "source": [
    "df1.isna().sum()"
   ]
  },
  {
   "cell_type": "markdown",
   "id": "305cc88b",
   "metadata": {
    "heading_collapsed": true,
    "hidden": true
   },
   "source": [
    "### Change Types"
   ]
  },
  {
   "cell_type": "code",
   "execution_count": null,
   "id": "41bdbf7e",
   "metadata": {
    "ExecuteTime": {
     "start_time": "2023-07-26T23:56:12.114Z"
    },
    "hidden": true
   },
   "outputs": [],
   "source": [
    "df1['competition_open_since_month'] = df1['competition_open_since_month'].astype( np.int64 )\n",
    "df1['competition_open_since_year'] = df1['competition_open_since_year'].astype( np.int64 )\n",
    "df1['promo2_since_week'] = df1['promo2_since_week'].astype( np.int64 )\n",
    "df1['promo2_since_year'] = df1['promo2_since_year'].astype( np.int64 )"
   ]
  },
  {
   "cell_type": "code",
   "execution_count": null,
   "id": "cd254269",
   "metadata": {
    "ExecuteTime": {
     "start_time": "2023-07-26T23:56:12.117Z"
    },
    "hidden": true
   },
   "outputs": [],
   "source": [
    "df1.dtypes"
   ]
  },
  {
   "cell_type": "markdown",
   "id": "fb78fdd5",
   "metadata": {
    "heading_collapsed": true,
    "hidden": true
   },
   "source": [
    "## Descriptive Statistical"
   ]
  },
  {
   "cell_type": "code",
   "execution_count": null,
   "id": "25752756",
   "metadata": {
    "ExecuteTime": {
     "start_time": "2023-07-26T23:56:12.121Z"
    },
    "hidden": true
   },
   "outputs": [],
   "source": [
    "num_attributes = df1.select_dtypes( include=['int64', 'float64'])\n",
    "cat_attributes = df1.select_dtypes( exclude=['int64', 'float64', 'datetime64[ns]'])"
   ]
  },
  {
   "cell_type": "markdown",
   "id": "fbd2d76a",
   "metadata": {
    "ExecuteTime": {
     "end_time": "2023-07-20T23:07:27.781234Z",
     "start_time": "2023-07-20T23:07:27.765612Z"
    },
    "heading_collapsed": true,
    "hidden": true
   },
   "source": [
    "### Numerical Attributes"
   ]
  },
  {
   "cell_type": "code",
   "execution_count": null,
   "id": "bcedffec",
   "metadata": {
    "ExecuteTime": {
     "start_time": "2023-07-26T23:56:12.124Z"
    },
    "hidden": true
   },
   "outputs": [],
   "source": [
    "#Central Tendency - mean, median\n",
    "ct1 = pd.DataFrame( num_attributes.apply( np.mean ) ).T\n",
    "ct2 = pd.DataFrame( num_attributes.apply( np.median ) ).T\n",
    "\n",
    "#Dispersion - std, min, max, range, skew, kurtosis\n",
    "d1 = pd.DataFrame ( num_attributes.apply ( np.std ) ).T\n",
    "d2 = pd.DataFrame ( num_attributes.apply ( min ) ).T\n",
    "d3 = pd.DataFrame ( num_attributes.apply ( max ) ).T\n",
    "d4 = pd.DataFrame ( num_attributes.apply ( lambda x: x.max() - x.min() ) ).T\n",
    "d5 = pd.DataFrame ( num_attributes.apply ( lambda x: x.skew() ) ).T\n",
    "d6 = pd.DataFrame ( num_attributes.apply ( lambda x: x.kurtosis() ) ).T\n",
    "\n",
    "#concatenate\n",
    "m = pd.concat([d2,d3,d4,ct1,ct2,d5,d6]).T.reset_index()\n",
    "m.columns = ['attributes', 'min', 'max', 'range', 'mean', 'median', 'skew', 'kurtosis']"
   ]
  },
  {
   "cell_type": "code",
   "execution_count": null,
   "id": "9724045e",
   "metadata": {
    "ExecuteTime": {
     "start_time": "2023-07-26T23:56:12.128Z"
    },
    "hidden": true,
    "scrolled": false
   },
   "outputs": [],
   "source": [
    "m"
   ]
  },
  {
   "cell_type": "code",
   "execution_count": null,
   "id": "73c6cde5",
   "metadata": {
    "ExecuteTime": {
     "start_time": "2023-07-26T23:56:12.133Z"
    },
    "cell_style": "center",
    "hidden": true
   },
   "outputs": [],
   "source": [
    "#plt.figure(figsize=(7,8))\n",
    "sns.displot( df1['competition_distance'], kde=True, height=8, aspect=1.5)"
   ]
  },
  {
   "cell_type": "markdown",
   "id": "a489a83a",
   "metadata": {
    "heading_collapsed": true,
    "hidden": true
   },
   "source": [
    "### Categorical Attributes"
   ]
  },
  {
   "cell_type": "code",
   "execution_count": null,
   "id": "281efd89",
   "metadata": {
    "ExecuteTime": {
     "start_time": "2023-07-26T23:56:12.136Z"
    },
    "hidden": true
   },
   "outputs": [],
   "source": [
    "cat_attributes.apply( lambda x: x.unique().shape[0] )"
   ]
  },
  {
   "cell_type": "code",
   "execution_count": null,
   "id": "eb23b9c5",
   "metadata": {
    "ExecuteTime": {
     "start_time": "2023-07-26T23:56:12.139Z"
    },
    "hidden": true
   },
   "outputs": [],
   "source": [
    "aux = df1[( df1['state_holiday'] != '0' ) & ( df1['sales'] > 0 )]\n",
    "\n",
    "#plt.figure(figsize=(20,10))\n",
    "plt.subplot(1, 3, 1)\n",
    "sns.boxplot(x='state_holiday', y='sales', data=aux)\n",
    "plt.subplot(1, 3, 2)\n",
    "sns.boxplot(x='store_type', y='sales', data=aux)\n",
    "plt.subplot(1, 3, 3)\n",
    "sns.boxplot(x='assortment', y='sales', data=aux)"
   ]
  },
  {
   "cell_type": "code",
   "execution_count": null,
   "id": "1010cb06",
   "metadata": {
    "hidden": true
   },
   "outputs": [],
   "source": []
  },
  {
   "cell_type": "markdown",
   "id": "fe7a17b5",
   "metadata": {},
   "source": [
    "# Feature Engineering"
   ]
  },
  {
   "cell_type": "code",
   "execution_count": null,
   "id": "dfb701ba",
   "metadata": {
    "ExecuteTime": {
     "start_time": "2023-07-26T23:56:12.144Z"
    }
   },
   "outputs": [],
   "source": [
    "df2 = df1.copy()"
   ]
  },
  {
   "cell_type": "markdown",
   "id": "24b41f7c",
   "metadata": {
    "heading_collapsed": true
   },
   "source": [
    "## Mapa Mental de Hipoteses"
   ]
  },
  {
   "cell_type": "code",
   "execution_count": null,
   "id": "d6c797db",
   "metadata": {
    "ExecuteTime": {
     "start_time": "2023-07-26T23:56:12.148Z"
    },
    "hidden": true,
    "scrolled": false
   },
   "outputs": [],
   "source": [
    "Image('../img/mind_map_hiphotesis.png')"
   ]
  },
  {
   "cell_type": "markdown",
   "id": "59e7bb35",
   "metadata": {
    "heading_collapsed": true
   },
   "source": [
    "## Criacao de hipoteses"
   ]
  },
  {
   "cell_type": "markdown",
   "id": "1805259a",
   "metadata": {
    "ExecuteTime": {
     "end_time": "2023-07-25T00:51:28.963518Z",
     "start_time": "2023-07-25T00:51:28.878823Z"
    },
    "hidden": true
   },
   "source": [
    "### Hipoteses Loja"
   ]
  },
  {
   "cell_type": "markdown",
   "id": "2e65af24",
   "metadata": {
    "hidden": true
   },
   "source": [
    "**1.** Lojas com número maior de funcionários deveriam vender mais.\n",
    "\n",
    "**2.** Lojas com maior capacidade de estoque deveriam vender mais.\n",
    "\n",
    "**3.** Lojas com maior porte deveriam vender mais.\n",
    "\n",
    "**4.** Lojas com maior sortimentos deveriam vender mais.\n",
    "\n",
    "**5.** Lojas com competidores mais próximos deveriam vender menos.\n",
    "\n",
    "**6.** Lojas com competidores à mais tempo deveriam vendem mais."
   ]
  },
  {
   "cell_type": "markdown",
   "id": "1ab47072",
   "metadata": {
    "hidden": true
   },
   "source": [
    "### Hipoteses Produto"
   ]
  },
  {
   "cell_type": "markdown",
   "id": "b9af6d40",
   "metadata": {
    "hidden": true
   },
   "source": [
    "**1.** Lojas que investem mais em Marketing deveriam vender mais.\n",
    "\n",
    "**2.** Lojas com maior exposição de produto deveriam vender mais.\n",
    "\n",
    "**3.** Lojas com produtos com preço menor deveriam vender mais.\n",
    "\n",
    "**4.** Lojas com promoções mais agressivas ( descontos maiores ), deveriam vender mais.\n",
    "\n",
    "**5.** Lojas com promoções ativas por mais tempo deveriam vender mais.\n",
    "\n",
    "**6.** Lojas com mais dias de promoção deveriam vender mais.\n",
    "\n",
    "**7.** Lojas com mais promoções consecutivas deveriam vender mais."
   ]
  },
  {
   "cell_type": "markdown",
   "id": "56f79586",
   "metadata": {
    "hidden": true
   },
   "source": [
    "### Hipoteses Tempo"
   ]
  },
  {
   "cell_type": "markdown",
   "id": "c43358ed",
   "metadata": {
    "hidden": true
   },
   "source": [
    "**1.** Lojas abertas durante o feriado de Natal deveriam vender mais.\n",
    "\n",
    "**2.** Lojas deveriam vender mais ao longo dos anos.\n",
    "\n",
    "**3.** Lojas deveriam vender mais no segundo semestre do ano.\n",
    "\n",
    "**4.** Lojas deveriam vender mais depois do dia 10 de cada mês.\n",
    "\n",
    "**5.** Lojas deveriam vender menos aos finais de semana.\n",
    "\n",
    "**6.** Lojas deveriam vender menos durante os feriados escolares."
   ]
  },
  {
   "cell_type": "markdown",
   "id": "f1e21191",
   "metadata": {
    "heading_collapsed": true
   },
   "source": [
    "## Lista Final de Hipóteses"
   ]
  },
  {
   "cell_type": "markdown",
   "id": "0a25b0d1",
   "metadata": {
    "hidden": true
   },
   "source": [
    "**1.** Lojas com maior sortimentos deveriam vender mais.\n",
    "\n",
    "**2.** Lojas com competidores mais próximos deveriam vender menos.\n",
    "\n",
    "**3.** Lojas com competidores à mais tempo deveriam vendem mais.\n",
    "\n",
    "**4.** Lojas com promoções ativas por mais tempo deveriam vender mais.\n",
    "\n",
    "**5.** Lojas com mais dias de promoção deveriam vender mais.\n",
    "\n",
    "**6.** Lojas com mais promoções consecutivas deveriam vender mais.\n",
    "\n",
    "**7.** Lojas abertas durante o feriado de Natal deveriam vender mais.\n",
    "\n",
    "**8.** Lojas deveriam vender mais ao longo dos anos.\n",
    "\n",
    "**9.** Lojas deveriam vender mais no segundo semestre do ano.\n",
    "\n",
    "**10.** Lojas deveriam vender mais depois do dia 10 de cada mês.\n",
    "\n",
    "**11.** Lojas deveriam vender menos aos finais de semana.\n",
    "\n",
    "**12.** Lojas deveriam vender menos durante os feriados escolares."
   ]
  },
  {
   "cell_type": "markdown",
   "id": "3b2ac72b",
   "metadata": {},
   "source": [
    "## Feature Engineering"
   ]
  },
  {
   "cell_type": "code",
   "execution_count": null,
   "id": "7a82d776",
   "metadata": {
    "ExecuteTime": {
     "start_time": "2023-07-26T23:56:12.156Z"
    }
   },
   "outputs": [],
   "source": [
    "# year\n",
    "df2['year'] = df2['date'].dt.year\n",
    "\n",
    "# month\n",
    "df2['month'] = df2['date'].dt.month\n",
    "\n",
    "# day\n",
    "df2['day'] = df2['date'].dt.day\n",
    "\n",
    "# week of year\n",
    "df2['week_of_year'] = df2['date'].dt.weekofyear\n",
    "\n",
    "# year week\n",
    "df2['year_week'] = df2['date'].dt.strftime( '%Y-%W' )\n",
    "\n",
    "# competition since\n"
   ]
  },
  {
   "cell_type": "code",
   "execution_count": null,
   "id": "840fe263",
   "metadata": {
    "ExecuteTime": {
     "start_time": "2023-07-26T23:56:12.159Z"
    }
   },
   "outputs": [],
   "source": [
    "df2.head().T"
   ]
  },
  {
   "cell_type": "code",
   "execution_count": null,
   "id": "4950c8f3",
   "metadata": {},
   "outputs": [],
   "source": []
  },
  {
   "cell_type": "code",
   "execution_count": null,
   "id": "ab5414ec",
   "metadata": {},
   "outputs": [],
   "source": []
  },
  {
   "cell_type": "code",
   "execution_count": null,
   "id": "e9146944",
   "metadata": {},
   "outputs": [],
   "source": []
  }
 ],
 "metadata": {
  "kernelspec": {
   "display_name": "Python 3 (ipykernel)",
   "language": "python",
   "name": "python3"
  },
  "language_info": {
   "codemirror_mode": {
    "name": "ipython",
    "version": 3
   },
   "file_extension": ".py",
   "mimetype": "text/x-python",
   "name": "python",
   "nbconvert_exporter": "python",
   "pygments_lexer": "ipython3",
   "version": "3.10.12"
  },
  "toc": {
   "base_numbering": 1,
   "nav_menu": {},
   "number_sections": true,
   "sideBar": true,
   "skip_h1_title": false,
   "title_cell": "Table of Contents",
   "title_sidebar": "Contents",
   "toc_cell": false,
   "toc_position": {},
   "toc_section_display": true,
   "toc_window_display": false
  }
 },
 "nbformat": 4,
 "nbformat_minor": 5
}
